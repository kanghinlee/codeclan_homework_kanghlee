{
 "cells": [
  {
   "cell_type": "code",
   "execution_count": 1,
   "id": "dc5bce16",
   "metadata": {},
   "outputs": [],
   "source": [
    "import pandas as pd\n",
    "# conda install pyjanitor -c conda-forge\n",
    "from janitor import clean_names"
   ]
  },
  {
   "cell_type": "markdown",
   "id": "99ea9803",
   "metadata": {},
   "source": [
    "# MVP\n",
    "\n",
    "## Joins"
   ]
  },
  {
   "cell_type": "markdown",
   "id": "45f644bc",
   "metadata": {},
   "source": [
    "### Question 1\n",
    "\n",
    "Read in all 4 credit card transaction datasets and clean up the column names.\n",
    "\n",
    "- CardBase.csv\n",
    "- CustomerBase.csv\n",
    "- FraudBase.csv\n",
    "- TransactionBase.csv"
   ]
  },
  {
   "cell_type": "markdown",
   "id": "6c11424e",
   "metadata": {},
   "source": [
    "### Question 2\n",
    "\n",
    "Join the data containing card details and customer details by customer id, so that all records of card details and any matching records in customer details are kept."
   ]
  },
  {
   "cell_type": "markdown",
   "id": "24ca4860",
   "metadata": {},
   "source": [
    "### Question 3\n",
    "\n",
    "Join the data containing fraud details with transaction details so all rows of both tables are kept. What does the resulting row number tell you?"
   ]
  },
  {
   "cell_type": "markdown",
   "id": "698c978d",
   "metadata": {},
   "source": [
    "### Question 4\n",
    "\n",
    "**[Harder]** Join the data containing card details with transaction details so rows from the first which have matching ones in \n",
    "the second are returned.\n",
    "\n",
    "Hint: `semi` is not an allowed option for `how` in `.merge()`. You'll need to think about the process of a semi \n",
    "join and then perform each step."
   ]
  },
  {
   "cell_type": "markdown",
   "id": "452e43fc",
   "metadata": {},
   "source": [
    "## Tidy Data\n",
    "\n",
    "### Question 5\n",
    "\n",
    "Read in hat_observations and split `observation` into two columns, `hat_colour` and `hat_type`.\n",
    "\n",
    "Hint: Look up the pandas documentation for `.str.split()`"
   ]
  },
  {
   "cell_type": "markdown",
   "id": "a79e1951",
   "metadata": {},
   "source": [
    "### Question 6\n",
    "\n",
    "Unite day, month, and year columns into a column called date using a suitable separator. Then find the date where\n",
    "the most berets were observed.\n",
    "\n",
    "Hints:\n",
    "- you can use the `.agg()` function to combine columns\n",
    "- you may need to convert the data types of the columns you wish to combine"
   ]
  },
  {
   "cell_type": "markdown",
   "id": "7193e349",
   "metadata": {},
   "source": [
    "# Extension\n",
    "\n",
    "## Joins\n",
    "\n",
    "### Question 1\n",
    "Can you join all 4 credit card datasets together so that you’re left with a dataset that looks like below with 109 rows and 12 columns?\n",
    "\n",
    "![](images/all_joined.png)"
   ]
  },
  {
   "cell_type": "markdown",
   "id": "4b068ad2",
   "metadata": {},
   "source": [
    "## Tidy Data\n",
    "\n",
    "### Question 2\n",
    "\n",
    "Read in exam_scores and transform it into long format with two new columns `exam_question` and `score`. Remove \n",
    "superfluous information from the values in `exam_question`."
   ]
  }
 ],
 "metadata": {
  "kernelspec": {
   "display_name": "Python 3 (ipykernel)",
   "language": "python",
   "name": "python3"
  },
  "language_info": {
   "codemirror_mode": {
    "name": "ipython",
    "version": 3
   },
   "file_extension": ".py",
   "mimetype": "text/x-python",
   "name": "python",
   "nbconvert_exporter": "python",
   "pygments_lexer": "ipython3",
   "version": "3.8.11"
  },
  "varInspector": {
   "cols": {
    "lenName": 16,
    "lenType": 16,
    "lenVar": 40
   },
   "kernels_config": {
    "python": {
     "delete_cmd_postfix": "",
     "delete_cmd_prefix": "del ",
     "library": "var_list.py",
     "varRefreshCmd": "print(var_dic_list())"
    },
    "r": {
     "delete_cmd_postfix": ") ",
     "delete_cmd_prefix": "rm(",
     "library": "var_list.r",
     "varRefreshCmd": "cat(var_dic_list()) "
    }
   },
   "types_to_exclude": [
    "module",
    "function",
    "builtin_function_or_method",
    "instance",
    "_Feature"
   ],
   "window_display": false
  }
 },
 "nbformat": 4,
 "nbformat_minor": 5
}
